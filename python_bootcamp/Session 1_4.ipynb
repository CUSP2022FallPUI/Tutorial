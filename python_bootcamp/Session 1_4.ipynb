{
 "cells": [
  {
   "cell_type": "markdown",
   "metadata": {},
   "source": [
    "## Part 4. Dictionaries"
   ]
  },
  {
   "cell_type": "markdown",
   "metadata": {},
   "source": [
    "### Dictionaries\n",
    "\n",
    "Dictionaries provide a unique and very efficient \"Pythonic\" way for mapping data. Close analogie in other languages are hash tables. Dictionaries consist of keys and values corresponding to them of any type. Use curly braces and ':' to separate values from keys.\n",
    "\n",
    "** NOTE ** Elements of dictionaries are not ordered, so indexing and slicing is not available for them. On the other hand hashable architecture ensures access efficiency, so dictionaries allow to map data from keys to values pretty fast"
   ]
  },
  {
   "cell_type": "markdown",
   "metadata": {},
   "source": [
    "One of the common use cases is converting data with mutiple syntax options to a standardized syntax. E.g. imagine a list of states which can contain both - abbreviations as well as full names including multiple spelling options. We need to be able to quickly convert it to a standard abbreviated syntax"
   ]
  },
  {
   "cell_type": "code",
   "execution_count": 1,
   "metadata": {
    "collapsed": true
   },
   "outputs": [],
   "source": [
    "D={'New York':'NY',\n",
    "   'NewYork': 'NY', \n",
    "   'NY':'NY', \n",
    "   'New Jersey':'NJ', \n",
    "   'NJ':'NJ', \n",
    "   'Connecticut':'CT', \n",
    "   'CT':'CT',\n",
    "   'Mass':'MA',\n",
    "   'Massachussetts':'MA',\n",
    "   'MA':'MA'\n",
    "  }"
   ]
  },
  {
   "cell_type": "code",
   "execution_count": 2,
   "metadata": {
    "collapsed": true
   },
   "outputs": [],
   "source": [
    "L=['New York','NJ','NY','Connecticut','Mass','NewYork','MA']"
   ]
  },
  {
   "cell_type": "code",
   "execution_count": 3,
   "metadata": {
    "collapsed": false
   },
   "outputs": [
    {
     "data": {
      "text/plain": [
       "['NY', 'NJ', 'NY', 'CT', 'MA', 'NY', 'MA']"
      ]
     },
     "execution_count": 3,
     "metadata": {},
     "output_type": "execute_result"
    }
   ],
   "source": [
    "#now let's map the list L to the standardized abbreviation form\n",
    "[D[l] for l in L]"
   ]
  },
  {
   "cell_type": "code",
   "execution_count": 4,
   "metadata": {
    "collapsed": true
   },
   "outputs": [],
   "source": [
    "#We can update the dictionary using assignment operator\n",
    "D['Delaware']='DE'"
   ]
  },
  {
   "cell_type": "code",
   "execution_count": 5,
   "metadata": {
    "collapsed": true
   },
   "outputs": [],
   "source": [
    "#also one can join two dictionaries using update method\n",
    "D2={'New Hampshire':'NH',\n",
    "   'NH': 'NH', \n",
    "   'Vermont':'VT',\n",
    "   'VT':'VT'\n",
    "   }"
   ]
  },
  {
   "cell_type": "code",
   "execution_count": 6,
   "metadata": {
    "collapsed": false
   },
   "outputs": [
    {
     "data": {
      "text/plain": [
       "{'CT': 'CT',\n",
       " 'Connecticut': 'CT',\n",
       " 'Delaware': 'DE',\n",
       " 'MA': 'MA',\n",
       " 'Mass': 'MA',\n",
       " 'Massachussetts': 'MA',\n",
       " 'NH': 'NH',\n",
       " 'NJ': 'NJ',\n",
       " 'NY': 'NY',\n",
       " 'New Hampshire': 'NH',\n",
       " 'New Jersey': 'NJ',\n",
       " 'New York': 'NY',\n",
       " 'NewYork': 'NY',\n",
       " 'VT': 'VT',\n",
       " 'Vermont': 'VT'}"
      ]
     },
     "execution_count": 6,
     "metadata": {},
     "output_type": "execute_result"
    }
   ],
   "source": [
    "D.update(D2); D"
   ]
  },
  {
   "cell_type": "code",
   "execution_count": 7,
   "metadata": {
    "collapsed": false
   },
   "outputs": [],
   "source": [
    "#just like with lists, del can be used to delete a record from the dictionary (or the entire dictionary if key not specified)\n",
    "del(D['Delaware'])"
   ]
  },
  {
   "cell_type": "markdown",
   "metadata": {},
   "source": [
    "If a key is missing in a dictionary, trying to index it will through an error. In order to avoid that one can use get method of a dictionary, which also allows to set a default value in case a key is missing "
   ]
  },
  {
   "cell_type": "code",
   "execution_count": 8,
   "metadata": {
    "collapsed": false
   },
   "outputs": [
    {
     "data": {
      "text/plain": [
       "'Unknown'"
      ]
     },
     "execution_count": 8,
     "metadata": {},
     "output_type": "execute_result"
    }
   ],
   "source": [
    "D.get('Alabama','Unknown')"
   ]
  },
  {
   "cell_type": "markdown",
   "metadata": {},
   "source": [
    "### Converting dictionaries to lists"
   ]
  },
  {
   "cell_type": "code",
   "execution_count": 9,
   "metadata": {
    "collapsed": false
   },
   "outputs": [
    {
     "data": {
      "text/plain": [
       "['Vermont',\n",
       " 'NewYork',\n",
       " 'Mass',\n",
       " 'CT',\n",
       " 'NH',\n",
       " 'NJ',\n",
       " 'MA',\n",
       " 'New Jersey',\n",
       " 'NY',\n",
       " 'Connecticut',\n",
       " 'New York',\n",
       " 'New Hampshire',\n",
       " 'VT',\n",
       " 'Massachussetts']"
      ]
     },
     "execution_count": 9,
     "metadata": {},
     "output_type": "execute_result"
    }
   ],
   "source": [
    "#a method returning list of keys\n",
    "D.keys()"
   ]
  },
  {
   "cell_type": "code",
   "execution_count": 10,
   "metadata": {
    "collapsed": false
   },
   "outputs": [
    {
     "data": {
      "text/plain": [
       "['VT',\n",
       " 'NY',\n",
       " 'MA',\n",
       " 'CT',\n",
       " 'NH',\n",
       " 'NJ',\n",
       " 'MA',\n",
       " 'NJ',\n",
       " 'NY',\n",
       " 'CT',\n",
       " 'NY',\n",
       " 'NH',\n",
       " 'VT',\n",
       " 'MA']"
      ]
     },
     "execution_count": 10,
     "metadata": {},
     "output_type": "execute_result"
    }
   ],
   "source": [
    "#a method returning list of values\n",
    "D.values()"
   ]
  },
  {
   "cell_type": "code",
   "execution_count": 11,
   "metadata": {
    "collapsed": false
   },
   "outputs": [
    {
     "data": {
      "text/plain": [
       "[('Vermont', 'VT'),\n",
       " ('NewYork', 'NY'),\n",
       " ('Mass', 'MA'),\n",
       " ('CT', 'CT'),\n",
       " ('NH', 'NH'),\n",
       " ('NJ', 'NJ'),\n",
       " ('MA', 'MA'),\n",
       " ('New Jersey', 'NJ'),\n",
       " ('NY', 'NY'),\n",
       " ('Connecticut', 'CT'),\n",
       " ('New York', 'NY'),\n",
       " ('New Hampshire', 'NH'),\n",
       " ('VT', 'VT'),\n",
       " ('Massachussetts', 'MA')]"
      ]
     },
     "execution_count": 11,
     "metadata": {},
     "output_type": "execute_result"
    }
   ],
   "source": [
    "#a method returning list of pairs of keys-values as tuples\n",
    "D.items()"
   ]
  },
  {
   "cell_type": "markdown",
   "metadata": {},
   "source": [
    "#### Traversing a dictionary"
   ]
  },
  {
   "cell_type": "markdown",
   "metadata": {},
   "source": [
    "Say we want to traverse our of state names dictionary converting its iterms into strings showing corresponding names as equalities"
   ]
  },
  {
   "cell_type": "code",
   "execution_count": 12,
   "metadata": {
    "collapsed": false
   },
   "outputs": [
    {
     "data": {
      "text/plain": [
       "['Vermont=VT',\n",
       " 'NewYork=NY',\n",
       " 'Mass=MA',\n",
       " 'CT=CT',\n",
       " 'NH=NH',\n",
       " 'NJ=NJ',\n",
       " 'MA=MA',\n",
       " 'New Jersey=NJ',\n",
       " 'NY=NY',\n",
       " 'Connecticut=CT',\n",
       " 'New York=NY',\n",
       " 'New Hampshire=NH',\n",
       " 'VT=VT',\n",
       " 'Massachussetts=MA']"
      ]
     },
     "execution_count": 12,
     "metadata": {},
     "output_type": "execute_result"
    }
   ],
   "source": [
    "[k+'='+v for k,v in D.items()]"
   ]
  },
  {
   "cell_type": "markdown",
   "metadata": {},
   "source": [
    "### Excercise 1. \n",
    "Given a dictionary of state names and average population densities Dens (people per sq.mile) and a list of pairs of states and land areas (sq. miles) calculate your best estimate for the total population residing in those areas.  "
   ]
  },
  {
   "cell_type": "code",
   "execution_count": 13,
   "metadata": {
    "collapsed": false
   },
   "outputs": [],
   "source": [
    "Dens={'NY':417.0, \n",
    "      'NJ':1210.1, \n",
    "      'RI':1017.1,\n",
    "      'MA':858.0,\n",
    "      'CT':742.6,\n",
    "      'DE':475.1\n",
    "     }"
   ]
  },
  {
   "cell_type": "code",
   "execution_count": 14,
   "metadata": {
    "collapsed": true
   },
   "outputs": [],
   "source": [
    "Lots=[['NJ',100],['NY',150],['CT',500],['NY',250],['DE',200],['MA',500],['RI',100],['NJ',300]]"
   ]
  },
  {
   "cell_type": "code",
   "execution_count": null,
   "metadata": {
    "collapsed": true
   },
   "outputs": [],
   "source": []
  }
 ],
 "metadata": {
  "kernelspec": {
   "display_name": "Python 2",
   "language": "python",
   "name": "python2"
  },
  "language_info": {
   "codemirror_mode": {
    "name": "ipython",
    "version": 2
   },
   "file_extension": ".py",
   "mimetype": "text/x-python",
   "name": "python",
   "nbconvert_exporter": "python",
   "pygments_lexer": "ipython2",
   "version": "2.7.10"
  }
 },
 "nbformat": 4,
 "nbformat_minor": 1
}
