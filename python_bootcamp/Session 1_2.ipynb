{
 "cells": [
  {
   "cell_type": "markdown",
   "metadata": {},
   "source": [
    "## Part 2. Flow control: if-then-else, switch, for, while. User defined functions"
   ]
  },
  {
   "cell_type": "markdown",
   "metadata": {},
   "source": [
    "So far we've been considering streightforward computations. However most important capability of all the programming languages (Python is no exception) is controlling the flow of operations.\n",
    "\n",
    "We will consider two main types of flow control:\n",
    "* Conditional statements -- if-then-else-elif\n",
    "* Loop statements -- for, while"
   ]
  },
  {
   "cell_type": "markdown",
   "metadata": {},
   "source": [
    "## Conditional branching in the code: if-then-else statement "
   ]
  },
  {
   "cell_type": "markdown",
   "metadata": {},
   "source": [
    "The simplest is conditional branching - deciding which piece of code to execute depending on a certain condition"
   ]
  },
  {
   "cell_type": "code",
   "execution_count": 1,
   "metadata": {
    "collapsed": false
   },
   "outputs": [
    {
     "data": {
      "text/plain": [
       "33"
      ]
     },
     "execution_count": 1,
     "metadata": {},
     "output_type": "execute_result"
    }
   ],
   "source": [
    "#truncate measurements if below a certain threshold\n",
    "T=30\n",
    "if T<32:\n",
    "    T=32\n",
    "    T+=1\n",
    "T    "
   ]
  },
  {
   "cell_type": "markdown",
   "metadata": {},
   "source": [
    "Notice that indent matters in Python! There are no begin/end statements like in Pascal, MATLAB or {} brackets like in C++ or Java to define blocks of code inside the statement (how do we know that T=32 and T+=1 belong to if, while T does not?), but this is done through indentation. This way we need to pay close attention to initial spaces we put in each line - they impact the code and can cause errors is misused:"
   ]
  },
  {
   "cell_type": "code",
   "execution_count": 2,
   "metadata": {
    "collapsed": false
   },
   "outputs": [],
   "source": [
    "#A=1\n",
    "# B=1"
   ]
  },
  {
   "cell_type": "code",
   "execution_count": 3,
   "metadata": {
    "collapsed": false
   },
   "outputs": [
    {
     "data": {
      "text/plain": [
       "65.1"
      ]
     },
     "execution_count": 3,
     "metadata": {},
     "output_type": "execute_result"
    }
   ],
   "source": [
    "#find maximum of two measutements\n",
    "T1=65.1; T2=64.0\n",
    "if T1>T2:\n",
    "    TMax=T1\n",
    "else:\n",
    "    TMax=T2\n",
    "TMax    "
   ]
  },
  {
   "cell_type": "markdown",
   "metadata": {},
   "source": [
    "Multiple conditions could be checked using **elif** statement"
   ]
  },
  {
   "cell_type": "code",
   "execution_count": 4,
   "metadata": {
    "collapsed": false
   },
   "outputs": [
    {
     "data": {
      "text/plain": [
       "'comfortable'"
      ]
     },
     "execution_count": 4,
     "metadata": {},
     "output_type": "execute_result"
    }
   ],
   "source": [
    "#detect temperature range (cold, comfortable, hot)\n",
    "T=60\n",
    "if T<50:\n",
    "  R='cold'\n",
    "elif T<75:\n",
    "  R='comfortable'\n",
    "else:\n",
    "  R='hot'\n",
    "R"
   ]
  },
  {
   "cell_type": "markdown",
   "metadata": {},
   "source": [
    "**NOTE**. There is no switch statement in python, which might be familiar from other programming languages. Use of dictionaries (will talk about them later) could be seen as a \"pythonic\" alternative"
   ]
  },
  {
   "cell_type": "markdown",
   "metadata": {},
   "source": [
    "## For loop"
   ]
  },
  {
   "cell_type": "markdown",
   "metadata": {},
   "source": [
    "`For` and `while` loops allow to run a piece of code multiple times, possibly with different parameters. Start with a for loop, which repeats its body for different values of the parameter within a certain list (we'll explain lists in detail later, for now just an intuitive idea)"
   ]
  },
  {
   "cell_type": "code",
   "execution_count": 5,
   "metadata": {
    "collapsed": false
   },
   "outputs": [
    {
     "data": {
      "text/plain": [
       "5050"
      ]
     },
     "execution_count": 5,
     "metadata": {},
     "output_type": "execute_result"
    }
   ],
   "source": [
    "#find sum of all the integers from 1 to 100\n",
    "s=0 #initial value of the sum\n",
    "for i in range(1,101): #for all the integers within a range from 1 to 101, excluding the last\n",
    "    s+=i #update the sum adding one more element\n",
    "s    "
   ]
  },
  {
   "cell_type": "markdown",
   "metadata": {},
   "source": [
    "now implement the same using while loop"
   ]
  },
  {
   "cell_type": "code",
   "execution_count": 6,
   "metadata": {
    "collapsed": false
   },
   "outputs": [
    {
     "data": {
      "text/plain": [
       "5050"
      ]
     },
     "execution_count": 6,
     "metadata": {},
     "output_type": "execute_result"
    }
   ],
   "source": [
    "s=0; i=0; #initial sum and term to add\n",
    "while i<100:\n",
    "    i+=1; #increment term\n",
    "    s+=i; #add current term\n",
    "s"
   ]
  },
  {
   "cell_type": "markdown",
   "metadata": {},
   "source": [
    "there are useful loop control statements: `break` (exit the loop immediately) and `continue` (finish current iteration and continue with the next one)"
   ]
  },
  {
   "cell_type": "code",
   "execution_count": 7,
   "metadata": {
    "collapsed": false
   },
   "outputs": [
    {
     "data": {
      "text/plain": [
       "5050"
      ]
     },
     "execution_count": 7,
     "metadata": {},
     "output_type": "execute_result"
    }
   ],
   "source": [
    "#one can rewrite the code above using infinite while loop with a break\n",
    "s=0; i=0; #initial sum and term to add\n",
    "while True:\n",
    "    i+=1; #increment term\n",
    "    s+=i; #add current term\n",
    "    if i==100:\n",
    "        break\n",
    "s"
   ]
  },
  {
   "cell_type": "code",
   "execution_count": 8,
   "metadata": {
    "collapsed": false
   },
   "outputs": [
    {
     "data": {
      "text/plain": [
       "5000"
      ]
     },
     "execution_count": 8,
     "metadata": {},
     "output_type": "execute_result"
    }
   ],
   "source": [
    "#if we want to sum all the elements but i=50, then continue could help (although perhaps simple if would be more efficient)\n",
    "s=0; i=0; #initial sum and term to add \n",
    "while True:\n",
    "    i+=1; #increment term\n",
    "    if i==50:\n",
    "        continue\n",
    "    s+=i; #add current term\n",
    "    if i==100:\n",
    "        break\n",
    "s"
   ]
  },
  {
   "cell_type": "markdown",
   "metadata": {},
   "source": [
    "## User defined functions"
   ]
  },
  {
   "cell_type": "markdown",
   "metadata": {},
   "source": [
    "Python has multiple buid-in functions (like `type`) but creating custom ones could be useful, when a block of code needs to be reused multiple times with variable input parameters. \n",
    "\n",
    "Imagine we need to be able to find the sum of all elements from 1 to N for any positive integer N"
   ]
  },
  {
   "cell_type": "code",
   "execution_count": 9,
   "metadata": {
    "collapsed": true
   },
   "outputs": [],
   "source": [
    "def SumN(N): #define a new function taking N as an input parameter\n",
    "    s=0; i=0; #initial sum and term to add\n",
    "    while i<N:\n",
    "        i+=1; #increment term\n",
    "        s+=i; #add current term\n",
    "    return s #return the resulting sum\n",
    "    #would be probably more efficient to use a formulae here: return N*(N+1)/2"
   ]
  },
  {
   "cell_type": "code",
   "execution_count": 10,
   "metadata": {
    "collapsed": false
   },
   "outputs": [
    {
     "data": {
      "text/plain": [
       "5050"
      ]
     },
     "execution_count": 10,
     "metadata": {},
     "output_type": "execute_result"
    }
   ],
   "source": [
    "SumN(100)"
   ]
  },
  {
   "cell_type": "code",
   "execution_count": 11,
   "metadata": {
    "collapsed": false
   },
   "outputs": [
    {
     "data": {
      "text/plain": [
       "55"
      ]
     },
     "execution_count": 11,
     "metadata": {},
     "output_type": "execute_result"
    }
   ],
   "source": [
    "SumN(10)"
   ]
  },
  {
   "cell_type": "code",
   "execution_count": 12,
   "metadata": {
    "collapsed": true
   },
   "outputs": [],
   "source": [
    "#a function can have multiple parameters: e.g. compute sum of p-th powers of all the elements from 1 to N\n",
    "def SumNP(N,p): #define a new function taking N as an input parameter\n",
    "    s=0; i=0; #initial sum and term to add\n",
    "    while i<N:\n",
    "        i+=1; #increment term\n",
    "        s+=i**p; #add current term\n",
    "    return s #return the resulting sum"
   ]
  },
  {
   "cell_type": "code",
   "execution_count": 13,
   "metadata": {
    "collapsed": false
   },
   "outputs": [
    {
     "data": {
      "text/plain": [
       "14"
      ]
     },
     "execution_count": 13,
     "metadata": {},
     "output_type": "execute_result"
    }
   ],
   "source": [
    "SumNP(3,2)"
   ]
  },
  {
   "cell_type": "code",
   "execution_count": 14,
   "metadata": {
    "collapsed": false
   },
   "outputs": [
    {
     "data": {
      "text/plain": [
       "3025"
      ]
     },
     "execution_count": 14,
     "metadata": {},
     "output_type": "execute_result"
    }
   ],
   "source": [
    "SumNP(10,3)"
   ]
  },
  {
   "cell_type": "markdown",
   "metadata": {},
   "source": [
    "### Excercise 1\n",
    "Find standard deviation of a set of integer numbers from 1 to N"
   ]
  },
  {
   "cell_type": "markdown",
   "metadata": {},
   "source": [
    "### Excercise 2\n",
    "Find a number of options to represent N as a sum of an any positive amount of positive integers, order sensitive (e.g. 3 can be decomposed as 3, 1+2, 2+1, 1+1+1+1, i.e. the answer is 4.\n",
    "Can you find a general pattern in the results for any N?\n",
    "\n",
    "** Hint **: use recursion"
   ]
  },
  {
   "cell_type": "code",
   "execution_count": null,
   "metadata": {
    "collapsed": true
   },
   "outputs": [],
   "source": []
  }
 ],
 "metadata": {
  "kernelspec": {
   "display_name": "Python 2",
   "language": "python",
   "name": "python2"
  },
  "language_info": {
   "codemirror_mode": {
    "name": "ipython",
    "version": 2
   },
   "file_extension": ".py",
   "mimetype": "text/x-python",
   "name": "python",
   "nbconvert_exporter": "python",
   "pygments_lexer": "ipython2",
   "version": "2.7.10"
  }
 },
 "nbformat": 4,
 "nbformat_minor": 1
}
